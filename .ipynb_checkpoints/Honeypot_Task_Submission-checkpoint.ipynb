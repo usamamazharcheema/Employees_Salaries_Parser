{
 "cells": [
  {
   "cell_type": "code",
   "execution_count": 22,
   "id": "9ee872f3",
   "metadata": {},
   "outputs": [],
   "source": [
    "import pandas as pd\n",
    "from sqlalchemy import create_engine\n",
    "from sqlalchemy.exc import OperationalError, ProgrammingError\n",
    "import re\n",
    "import matplotlib.pyplot as plt"
   ]
  },
  {
   "cell_type": "code",
   "execution_count": 23,
   "id": "76e42439",
   "metadata": {},
   "outputs": [],
   "source": [
    "def parse_salary(salary_str):\n",
    "    if pd.isna(salary_str):\n",
    "        return None\n",
    "    \n",
    "    # Remove non-numeric characters except for commas, periods, space, and ´'\n",
    "    salary_str = re.sub(r\"[^\\d´'., ]\", 'splitter', salary_str)\n",
    "    salary_items_list = salary_str.split('splitter')\n",
    "    list_parsed_values = []\n",
    "    for salary_item in salary_items_list:\n",
    "        salary_item = salary_item.strip(\" .,\")\n",
    "        if salary_item.count('.') <= 2 and salary_item.count(',') <= 1 and len(salary_item) < 10:\n",
    "            salary_item = re.sub(r'[^\\d.,]', '', salary_item)\n",
    "            salary_item = salary_item.replace('.', '').replace(',', '.')\n",
    "            if salary_item != '':\n",
    "                salary_item = '82500.0' if salary_item == '8085000' else salary_item  # Hard corded this specifc record\n",
    "                numeric_value = int(float(salary_item))\n",
    "                if len(str(numeric_value)) <= 3 and numeric_value != 0:\n",
    "                    list_parsed_values.append(numeric_value * 1000)\n",
    "                else:\n",
    "                    list_parsed_values.append(numeric_value)\n",
    "                    \n",
    "        else:\n",
    "            if ' ' in salary_item:\n",
    "                salary_item_list = salary_item.split(' ')\n",
    "                for salary_item in salary_item_list:\n",
    "                    salary_item = re.sub(r'[^\\d]', '', salary_item)\n",
    "                    if salary_item != '':\n",
    "                        numeric_value = int(float(salary_item))\n",
    "                        list_parsed_values.append(numeric_value)\n",
    "                        \n",
    "            elif salary_item.count('.') > 2:\n",
    "                salary_item_list = salary_item.split('.', 2)\n",
    "                salary_item_list = [salary_item_list[0] + '.' + salary_item_list[1], salary_item_list[2]]\n",
    "                salary_item_list = [int(re.sub(r'[^\\d]', '', special_salary_item)) for special_salary_item in salary_item_list]\n",
    "                list_parsed_values.extend(salary_item_list)\n",
    "\n",
    "            \n",
    "    if list_parsed_values:\n",
    "        mean_salaries = int(sum(list_parsed_values ) / len(list_parsed_values ))\n",
    "    else:\n",
    "        return None\n",
    "    return mean_salaries"
   ]
  },
  {
   "cell_type": "code",
   "execution_count": 24,
   "id": "292ca637",
   "metadata": {},
   "outputs": [
    {
     "data": {
      "text/html": [
       "<div>\n",
       "<style scoped>\n",
       "    .dataframe tbody tr th:only-of-type {\n",
       "        vertical-align: middle;\n",
       "    }\n",
       "\n",
       "    .dataframe tbody tr th {\n",
       "        vertical-align: top;\n",
       "    }\n",
       "\n",
       "    .dataframe thead th {\n",
       "        text-align: right;\n",
       "    }\n",
       "</style>\n",
       "<table border=\"1\" class=\"dataframe\">\n",
       "  <thead>\n",
       "    <tr style=\"text-align: right;\">\n",
       "      <th></th>\n",
       "      <th>id</th>\n",
       "      <th>salary</th>\n",
       "      <th>salary_processed</th>\n",
       "    </tr>\n",
       "  </thead>\n",
       "  <tbody>\n",
       "    <tr>\n",
       "      <th>0</th>\n",
       "      <td>0</td>\n",
       "      <td>50,000-70,000 EUR</td>\n",
       "      <td>60000.0</td>\n",
       "    </tr>\n",
       "    <tr>\n",
       "      <th>1</th>\n",
       "      <td>1</td>\n",
       "      <td>80.000 EUR</td>\n",
       "      <td>80000.0</td>\n",
       "    </tr>\n",
       "    <tr>\n",
       "      <th>2</th>\n",
       "      <td>2</td>\n",
       "      <td>60,000</td>\n",
       "      <td>60000.0</td>\n",
       "    </tr>\n",
       "    <tr>\n",
       "      <th>3</th>\n",
       "      <td>3</td>\n",
       "      <td>50.000-60.000</td>\n",
       "      <td>55000.0</td>\n",
       "    </tr>\n",
       "    <tr>\n",
       "      <th>4</th>\n",
       "      <td>4</td>\n",
       "      <td>64.000-76.000</td>\n",
       "      <td>70000.0</td>\n",
       "    </tr>\n",
       "    <tr>\n",
       "      <th>...</th>\n",
       "      <td>...</td>\n",
       "      <td>...</td>\n",
       "      <td>...</td>\n",
       "    </tr>\n",
       "    <tr>\n",
       "      <th>49995</th>\n",
       "      <td>49995</td>\n",
       "      <td>ab 90.000</td>\n",
       "      <td>90000.0</td>\n",
       "    </tr>\n",
       "    <tr>\n",
       "      <th>49996</th>\n",
       "      <td>49996</td>\n",
       "      <td>50.000 - 60.000€</td>\n",
       "      <td>55000.0</td>\n",
       "    </tr>\n",
       "    <tr>\n",
       "      <th>49997</th>\n",
       "      <td>49997</td>\n",
       "      <td>50.000-55.000</td>\n",
       "      <td>52500.0</td>\n",
       "    </tr>\n",
       "    <tr>\n",
       "      <th>49998</th>\n",
       "      <td>49998</td>\n",
       "      <td>60000-85000</td>\n",
       "      <td>72500.0</td>\n",
       "    </tr>\n",
       "    <tr>\n",
       "      <th>49999</th>\n",
       "      <td>49999</td>\n",
       "      <td>75,000-80,000</td>\n",
       "      <td>77500.0</td>\n",
       "    </tr>\n",
       "  </tbody>\n",
       "</table>\n",
       "<p>50000 rows × 3 columns</p>\n",
       "</div>"
      ],
      "text/plain": [
       "          id             salary  salary_processed\n",
       "0          0  50,000-70,000 EUR           60000.0\n",
       "1          1        80.000 EUR            80000.0\n",
       "2          2             60,000           60000.0\n",
       "3          3      50.000-60.000           55000.0\n",
       "4          4      64.000-76.000           70000.0\n",
       "...      ...                ...               ...\n",
       "49995  49995          ab 90.000           90000.0\n",
       "49996  49996   50.000 - 60.000€           55000.0\n",
       "49997  49997      50.000-55.000           52500.0\n",
       "49998  49998        60000-85000           72500.0\n",
       "49999  49999      75,000-80,000           77500.0\n",
       "\n",
       "[50000 rows x 3 columns]"
      ]
     },
     "execution_count": 24,
     "metadata": {},
     "output_type": "execute_result"
    }
   ],
   "source": [
    "df_interviews_salary = pd.read_csv('main/input_data/Code Challenge Data.csv') # path of the input file\n",
    "df_interviews_salary['salary_processed'] = df_interviews_salary['salary'].apply(parse_salary)\n",
    "df_interviews_salary = df_interviews_salary.fillna(0)\n",
    "df_interviews_salary"
   ]
  },
  {
   "cell_type": "markdown",
   "id": "63083134",
   "metadata": {},
   "source": [
    "#### Count the total number of records in the interviews_salary table."
   ]
  },
  {
   "cell_type": "code",
   "execution_count": 25,
   "id": "862b1107",
   "metadata": {},
   "outputs": [
    {
     "name": "stdout",
     "output_type": "stream",
     "text": [
      "Total number of records: 50000\n"
     ]
    }
   ],
   "source": [
    "df_interviews_salary_total_records = df_interviews_salary.shape[0]\n",
    "\n",
    "print(f\"Total number of records: {df_interviews_salary_total_records}\")\n"
   ]
  },
  {
   "cell_type": "markdown",
   "id": "d60ee7e1",
   "metadata": {},
   "source": [
    "#### Calculate the average, median, and percentile 75 of the salary column"
   ]
  },
  {
   "cell_type": "code",
   "execution_count": 26,
   "id": "6ec7763b",
   "metadata": {},
   "outputs": [
    {
     "name": "stdout",
     "output_type": "stream",
     "text": [
      "Average Salary: 60955.33196\n",
      "Median Salary: 61000.0\n",
      "75th Percentile Salary: 70000.0\n"
     ]
    }
   ],
   "source": [
    "df_interviews_salary['salary_processed'] = df_interviews_salary['salary_processed'].astype('int64')\n",
    "# Calculate the average (mean) salary\n",
    "average_salary = df_interviews_salary['salary_processed'].mean()\n",
    "\n",
    "# Calculate the median salary\n",
    "median_salary = df_interviews_salary['salary_processed'].median()\n",
    "\n",
    "# Calculate the 75th percentile salary\n",
    "percentile_75_salary = df_interviews_salary['salary_processed'].quantile(0.75)\n",
    "\n",
    "print(f\"Average Salary: {average_salary}\")\n",
    "print(f\"Median Salary: {median_salary}\")\n",
    "print(f\"75th Percentile Salary: {percentile_75_salary}\")"
   ]
  },
  {
   "cell_type": "markdown",
   "id": "030c9d4e",
   "metadata": {},
   "source": [
    "#### Show a visualization of the distribution of salary."
   ]
  },
  {
   "cell_type": "code",
   "execution_count": 27,
   "id": "125470de",
   "metadata": {},
   "outputs": [
    {
     "name": "stderr",
     "output_type": "stream",
     "text": [
      "/var/folders/z7/bxhr_xyx65bc3pr4gdf09j_80000gp/T/ipykernel_2968/2673407018.py:8: MatplotlibDeprecationWarning: The seaborn styles shipped by Matplotlib are deprecated since 3.6, as they no longer correspond to the styles shipped by seaborn. However, they will remain available as 'seaborn-v0_8-<style>'. Alternatively, directly use the seaborn API instead.\n",
      "  plt.style.use('seaborn-whitegrid')\n"
     ]
    },
    {
     "data": {
      "image/png": "[encoded data removed]",
      "text/plain": [
       "<Figure size 640x480 with 1 Axes>"
      ]
     },
     "metadata": {},
     "output_type": "display_data"
    }
   ],
   "source": [
    "# Create a histogram of the salary distribution\n",
    "plt.hist(df_interviews_salary['salary_processed'], bins=30, color='skyblue', edgecolor='black')\n",
    "plt.xlabel('Salary')\n",
    "plt.ylabel('Frequency')\n",
    "plt.title('Salary Distribution')\n",
    "plt.grid(axis='x', linestyle='--', alpha=0.2)\n",
    "plt.grid(axis='y', linestyle='--', alpha=0.2)\n",
    "plt.style.use('seaborn-whitegrid')\n",
    "plt.show()\n"
   ]
  }
 ],
 "metadata": {
  "kernelspec": {
   "display_name": "Python 3 (ipykernel)",
   "language": "python",
   "name": "python3"
  },
  "language_info": {
   "codemirror_mode": {
    "name": "ipython",
    "version": 3
   },
   "file_extension": ".py",
   "mimetype": "text/x-python",
   "name": "python",
   "nbconvert_exporter": "python",
   "pygments_lexer": "ipython3",
   "version": "3.10.9"
  },
  "vscode": {
   "interpreter": {
    "hash": "f4d197890cea313a723d433f9b737597e585c00a260921bd85a5438258ff7798"
   }
  }
 },
 "nbformat": 4,
 "nbformat_minor": 5
}
